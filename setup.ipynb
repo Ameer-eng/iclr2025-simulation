{
 "cells": [
  {
   "cell_type": "code",
   "execution_count": 1,
   "metadata": {},
   "outputs": [],
   "source": [
    "import os"
   ]
  },
  {
   "cell_type": "code",
   "execution_count": 2,
   "id": "5ce68050",
   "metadata": {},
   "outputs": [],
   "source": [
    "# Check if the directory exists, if not, create it\n",
    "\n",
    "if not os.path.exists(\"boxplots\"):\n",
    "    os.makedirs(\"boxplots\")\n",
    "    \n",
    "if not os.path.exists(\"results\"):\n",
    "    os.makedirs(\"results\") "
   ]
  }
 ],
 "metadata": {
  "kernelspec": {
   "display_name": "base",
   "language": "python",
   "name": "python3"
  },
  "language_info": {
   "codemirror_mode": {
    "name": "ipython",
    "version": 3
   },
   "file_extension": ".py",
   "mimetype": "text/x-python",
   "name": "python",
   "nbconvert_exporter": "python",
   "pygments_lexer": "ipython3",
   "version": "3.12.3"
  }
 },
 "nbformat": 4,
 "nbformat_minor": 5
}
