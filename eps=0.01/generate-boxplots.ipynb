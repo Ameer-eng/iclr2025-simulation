{
 "cells": [
  {
   "cell_type": "code",
   "execution_count": 12,
   "id": "5a4ddd09-9dc3-4f84-90d0-12769f167f7c",
   "metadata": {},
   "outputs": [],
   "source": [
    "import numpy as np\n",
    "from matplotlib import pyplot as plt\n",
    "import os"
   ]
  },
  {
   "cell_type": "code",
   "execution_count": 13,
   "id": "cb7183b5-8d04-4072-b9b5-a9ef8d473441",
   "metadata": {},
   "outputs": [],
   "source": [
    "# Plot the mles\n",
    "def generate_boxplots(param_estimates, true_params, sample_sizes, param_names, kernel_name):\n",
    "    # Create boxplots\n",
    "    fig, axs = plt.subplots(1, len(true_params), figsize=(12, 6))\n",
    "    for i, param_estimate in enumerate(param_estimates):\n",
    "        axs[i].boxplot(param_estimate, labels=sample_sizes, vert=True)\n",
    "        axs[i].axhline(y=true_params[i], color='r', alpha=0.5, linestyle='--')\n",
    "        axs[i].set_xticks(range(1, len(sample_sizes) + 1))\n",
    "        axs[i].set_xlabel('Sample Size', fontsize=15)\n",
    "        axs[i].set_title('{}'.format(param_names[i]), fontsize=20)\n",
    "\n",
    "    plt.tight_layout()\n",
    "    plt.savefig('./boxplots/{}-simulation.png'.format(kernel_name), dpi=300)\n",
    "    plt.show()"
   ]
  },
  {
   "cell_type": "code",
   "execution_count": null,
   "id": "f356c5fb-3240-445f-b622-03e2201e6bb8",
   "metadata": {},
   "outputs": [],
   "source": [
    "# Generate plots\n",
    "ns = [500, 1000, 2000, 5000]\n",
    "param_estimates = np.load('./results/RBF-simulation.npy').tolist()\n",
    "true_params = [1, 1 / 500]\n",
    "param_names = [r'$\\hat{\\sigma}^2$', r'$\\hat{\\ell}$']\n",
    "generate_boxplots(param_estimates, true_params, ns, param_names, \"RBF\")"
   ]
  },
  {
   "cell_type": "code",
   "execution_count": null,
   "id": "69d370cf-42b4-44ca-bf71-0e32c5f03ca1",
   "metadata": {},
   "outputs": [],
   "source": [
    "# Generate plots\n",
    "ns = [500, 1000, 2000, 5000]\n",
    "param_estimates = np.load('./results/rational-quadratic-simulation.npy').tolist()\n",
    "true_params = [1, 1 / 300, 3]\n",
    "param_names = [r'$\\hat{\\sigma}^2$', r'$\\hat{\\ell}$', r'$\\hat{\\alpha}$']\n",
    "generate_boxplots(param_estimates, true_params, ns, param_names, \"rational-quadratic\")"
   ]
  },
  {
   "cell_type": "code",
   "execution_count": null,
   "id": "0c2a455a-ac07-49dd-9a8e-3910cab86192",
   "metadata": {},
   "outputs": [],
   "source": [
    "# Generate plots\n",
    "ns = [500, 1000, 2000, 5000]\n",
    "param_estimates = np.load('./results/periodic-simulation.npy').tolist()\n",
    "true_params = [1, 1 / 300, 4]\n",
    "param_names = [r'$\\hat{\\sigma}^2$', r'$\\hat{\\ell}$', r'$\\hat{\\gamma}$']\n",
    "generate_boxplots(param_estimates, true_params, ns, param_names, \"periodic\")"
   ]
  },
  {
   "cell_type": "code",
   "execution_count": null,
   "id": "495f9204-8197-4108-a72a-658ac4eef7e0",
   "metadata": {},
   "outputs": [],
   "source": [
    "# Generate plots\n",
    "ns = [500, 1000, 2000, 5000]\n",
    "true_params = [1, 1/200, 1/100, 4]\n",
    "param_estimates = np.load('./results/damped-periodic-simulation.npy').tolist()\n",
    "param_names = [r'$\\hat{\\sigma}^2$', r'$\\hat{\\ell_1}$', r'$\\hat{\\ell_2}$', r'$\\hat{\\gamma}$']\n",
    "generate_boxplots(param_estimates, true_params, ns, param_names, \"damped-periodic\")"
   ]
  },
  {
   "cell_type": "code",
   "execution_count": null,
   "id": "a0a00064-613c-4963-86f4-6ef0da3867bc",
   "metadata": {},
   "outputs": [],
   "source": [
    "# Generate plots\n",
    "ns = [500, 1000, 2000, 5000]\n",
    "true_params = [1, 1/4] \n",
    "param_estimates = np.load('./results/cosine-simulation.npy').tolist()\n",
    "param_names = [r'$\\hat{\\sigma}^2$', r'$\\hat{\\gamma}$']\n",
    "generate_boxplots(param_estimates, true_params, ns, param_names, \"cosine\")"
   ]
  },
  {
   "cell_type": "code",
   "execution_count": null,
   "id": "f4c589cf-58a8-41b1-9b08-9e2161371663",
   "metadata": {},
   "outputs": [],
   "source": []
  }
 ],
 "metadata": {
  "kernelspec": {
   "display_name": "Python 3 (ipykernel)",
   "language": "python",
   "name": "python3"
  },
  "language_info": {
   "codemirror_mode": {
    "name": "ipython",
    "version": 3
   },
   "file_extension": ".py",
   "mimetype": "text/x-python",
   "name": "python",
   "nbconvert_exporter": "python",
   "pygments_lexer": "ipython3",
   "version": "3.10.9"
  }
 },
 "nbformat": 4,
 "nbformat_minor": 5
}
